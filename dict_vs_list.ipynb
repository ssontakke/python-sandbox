{
  "nbformat": 4,
  "nbformat_minor": 0,
  "metadata": {
    "colab": {
      "name": "dict_list.ipynb",
      "provenance": [],
      "collapsed_sections": [],
      "authorship_tag": "ABX9TyMgfXajeeSYtsS3WOMgpcQ5",
      "include_colab_link": true
    },
    "kernelspec": {
      "name": "python3",
      "display_name": "Python 3"
    }
  },
  "cells": [
    {
      "cell_type": "markdown",
      "metadata": {
        "id": "view-in-github",
        "colab_type": "text"
      },
      "source": [
        "<a href=\"https://colab.research.google.com/github/ssontakke/python-sandbox/blob/main/dict_vs_list.ipynb\" target=\"_parent\"><img src=\"https://colab.research.google.com/assets/colab-badge.svg\" alt=\"Open In Colab\"/></a>"
      ]
    },
    {
      "cell_type": "markdown",
      "metadata": {
        "id": "ju40WRt1m_up"
      },
      "source": [
        "# List"
      ]
    },
    {
      "cell_type": "code",
      "metadata": {
        "colab": {
          "base_uri": "https://localhost:8080/"
        },
        "id": "fZuW0zzQmlaR",
        "outputId": "b7310ab6-579d-4871-aa87-8990034627f6"
      },
      "source": [
        "myList = ['1', 2]\r\n",
        "print(type(myList))"
      ],
      "execution_count": null,
      "outputs": [
        {
          "output_type": "stream",
          "text": [
            "<class 'list'>\n"
          ],
          "name": "stdout"
        }
      ]
    },
    {
      "cell_type": "markdown",
      "metadata": {
        "id": "3vclfhsJnEc0"
      },
      "source": [
        "# Dictionary"
      ]
    },
    {
      "cell_type": "code",
      "metadata": {
        "colab": {
          "base_uri": "https://localhost:8080/"
        },
        "id": "29CzcDRRnDOp",
        "outputId": "77fc8981-c735-43c9-c587-4a29e0c1aa75"
      },
      "source": [
        "myDict = {'1':'Shaunak', '2': 'Swara'}\r\n",
        "print(type(myDict))"
      ],
      "execution_count": null,
      "outputs": [
        {
          "output_type": "stream",
          "text": [
            "<class 'dict'>\n"
          ],
          "name": "stdout"
        }
      ]
    },
    {
      "cell_type": "markdown",
      "metadata": {
        "id": "d7XcmKqDnXJR"
      },
      "source": [
        "# Dictionary with dict()"
      ]
    },
    {
      "cell_type": "code",
      "metadata": {
        "colab": {
          "base_uri": "https://localhost:8080/"
        },
        "id": "v6lx4dsinafz",
        "outputId": "ee569f64-c7a5-4fce-efac-6c0c5c035dba"
      },
      "source": [
        "my_dict = dict({1:'apple', 2:'ball'})\r\n",
        "print(my_dict)\r\n",
        "print(type(my_dict))\r\n",
        "\r\n",
        "my_dict1 = dict({(1,'apple'), (2,'ball')})\r\n",
        "print(my_dict1)\r\n",
        "print(type(my_dict1))"
      ],
      "execution_count": null,
      "outputs": [
        {
          "output_type": "stream",
          "text": [
            "{1: 'apple', 2: 'ball'}\n",
            "<class 'dict'>\n",
            "{2: 'ball', 1: 'apple'}\n",
            "<class 'dict'>\n"
          ],
          "name": "stdout"
        }
      ]
    }
  ]
}